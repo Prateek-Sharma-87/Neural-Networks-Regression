{
 "cells": [
  {
   "cell_type": "markdown",
   "metadata": {},
   "source": [
    "# Importing Basic Libraries"
   ]
  },
  {
   "cell_type": "code",
   "execution_count": null,
   "metadata": {},
   "outputs": [],
   "source": [
    "import pandas as pd\n",
    "import numpy as np\n",
    "import matplotlib.pyplot as plt\n",
    "import statistics"
   ]
  },
  {
   "cell_type": "markdown",
   "metadata": {},
   "source": [
    "# Importing Scikit-learn Packages"
   ]
  },
  {
   "cell_type": "code",
   "execution_count": null,
   "metadata": {},
   "outputs": [],
   "source": [
    "from sklearn.model_selection import train_test_split\n",
    "from sklearn.metrics import mean_squared_error"
   ]
  },
  {
   "cell_type": "markdown",
   "metadata": {},
   "source": [
    "# Importing Keras Packages"
   ]
  },
  {
   "cell_type": "code",
   "execution_count": null,
   "metadata": {},
   "outputs": [],
   "source": [
    "import keras\n",
    "from keras.models import Sequential\n",
    "from keras.layers import Dense"
   ]
  },
  {
   "cell_type": "markdown",
   "metadata": {},
   "source": [
    "# Part A"
   ]
  },
  {
   "cell_type": "markdown",
   "metadata": {},
   "source": [
    "## Importing Data"
   ]
  },
  {
   "cell_type": "code",
   "execution_count": 150,
   "metadata": {},
   "outputs": [
    {
     "data": {
      "text/html": [
       "<div>\n",
       "<style scoped>\n",
       "    .dataframe tbody tr th:only-of-type {\n",
       "        vertical-align: middle;\n",
       "    }\n",
       "\n",
       "    .dataframe tbody tr th {\n",
       "        vertical-align: top;\n",
       "    }\n",
       "\n",
       "    .dataframe thead th {\n",
       "        text-align: right;\n",
       "    }\n",
       "</style>\n",
       "<table border=\"1\" class=\"dataframe\">\n",
       "  <thead>\n",
       "    <tr style=\"text-align: right;\">\n",
       "      <th></th>\n",
       "      <th>Cement</th>\n",
       "      <th>Blast Furnace Slag</th>\n",
       "      <th>Fly Ash</th>\n",
       "      <th>Water</th>\n",
       "      <th>Superplasticizer</th>\n",
       "      <th>Coarse Aggregate</th>\n",
       "      <th>Fine Aggregate</th>\n",
       "      <th>Age</th>\n",
       "      <th>Strength</th>\n",
       "    </tr>\n",
       "  </thead>\n",
       "  <tbody>\n",
       "    <tr>\n",
       "      <th>0</th>\n",
       "      <td>540.0</td>\n",
       "      <td>0.0</td>\n",
       "      <td>0.0</td>\n",
       "      <td>162.0</td>\n",
       "      <td>2.5</td>\n",
       "      <td>1040.0</td>\n",
       "      <td>676.0</td>\n",
       "      <td>28</td>\n",
       "      <td>79.99</td>\n",
       "    </tr>\n",
       "    <tr>\n",
       "      <th>1</th>\n",
       "      <td>540.0</td>\n",
       "      <td>0.0</td>\n",
       "      <td>0.0</td>\n",
       "      <td>162.0</td>\n",
       "      <td>2.5</td>\n",
       "      <td>1055.0</td>\n",
       "      <td>676.0</td>\n",
       "      <td>28</td>\n",
       "      <td>61.89</td>\n",
       "    </tr>\n",
       "    <tr>\n",
       "      <th>2</th>\n",
       "      <td>332.5</td>\n",
       "      <td>142.5</td>\n",
       "      <td>0.0</td>\n",
       "      <td>228.0</td>\n",
       "      <td>0.0</td>\n",
       "      <td>932.0</td>\n",
       "      <td>594.0</td>\n",
       "      <td>270</td>\n",
       "      <td>40.27</td>\n",
       "    </tr>\n",
       "    <tr>\n",
       "      <th>3</th>\n",
       "      <td>332.5</td>\n",
       "      <td>142.5</td>\n",
       "      <td>0.0</td>\n",
       "      <td>228.0</td>\n",
       "      <td>0.0</td>\n",
       "      <td>932.0</td>\n",
       "      <td>594.0</td>\n",
       "      <td>365</td>\n",
       "      <td>41.05</td>\n",
       "    </tr>\n",
       "    <tr>\n",
       "      <th>4</th>\n",
       "      <td>198.6</td>\n",
       "      <td>132.4</td>\n",
       "      <td>0.0</td>\n",
       "      <td>192.0</td>\n",
       "      <td>0.0</td>\n",
       "      <td>978.4</td>\n",
       "      <td>825.5</td>\n",
       "      <td>360</td>\n",
       "      <td>44.30</td>\n",
       "    </tr>\n",
       "  </tbody>\n",
       "</table>\n",
       "</div>"
      ],
      "text/plain": [
       "   Cement  Blast Furnace Slag  Fly Ash  Water  Superplasticizer  \\\n",
       "0   540.0                 0.0      0.0  162.0               2.5   \n",
       "1   540.0                 0.0      0.0  162.0               2.5   \n",
       "2   332.5               142.5      0.0  228.0               0.0   \n",
       "3   332.5               142.5      0.0  228.0               0.0   \n",
       "4   198.6               132.4      0.0  192.0               0.0   \n",
       "\n",
       "   Coarse Aggregate  Fine Aggregate  Age  Strength  \n",
       "0            1040.0           676.0   28     79.99  \n",
       "1            1055.0           676.0   28     61.89  \n",
       "2             932.0           594.0  270     40.27  \n",
       "3             932.0           594.0  365     41.05  \n",
       "4             978.4           825.5  360     44.30  "
      ]
     },
     "execution_count": 150,
     "metadata": {},
     "output_type": "execute_result"
    }
   ],
   "source": [
    "concrete_data = pd.read_csv('concrete_data.csv')\n",
    "concrete_data.head()"
   ]
  },
  {
   "cell_type": "markdown",
   "metadata": {},
   "source": [
    "## Split imported data in 'Predictors' and 'Target'"
   ]
  },
  {
   "cell_type": "code",
   "execution_count": 151,
   "metadata": {},
   "outputs": [],
   "source": [
    "concrete_data_columns = concrete_data.columns\n",
    "\n",
    "predictors = concrete_data[concrete_data_columns[concrete_data_columns != 'Strength']] # all columns except Strength\n",
    "target = concrete_data['Strength'] # Strength column\n",
    "\n",
    "n_cols = predictors.shape[1]"
   ]
  },
  {
   "cell_type": "markdown",
   "metadata": {},
   "source": [
    "## Defining Neural Network Regression Model with 1 hidden layer"
   ]
  },
  {
   "cell_type": "code",
   "execution_count": 152,
   "metadata": {},
   "outputs": [],
   "source": [
    "def regression_model():\n",
    "    # Create model\n",
    "    model = Sequential()\n",
    "    model.add(Dense(10, activation = 'relu', input_shape = (n_cols, )))\n",
    "    model.add(Dense(1))\n",
    "    \n",
    "    # Compile model\n",
    "    model.compile(optimizer = 'adam', loss = 'mean_squared_error')\n",
    "    return model"
   ]
  },
  {
   "cell_type": "markdown",
   "metadata": {},
   "source": [
    "## Model Iteration - (without Data Normalization; 1 hidden layer; epochs = 50)"
   ]
  },
  {
   "cell_type": "code",
   "execution_count": 164,
   "metadata": {},
   "outputs": [
    {
     "name": "stdout",
     "output_type": "stream",
     "text": [
      "ITERATION:  1  2  3  4  5  6  7  8  9  10  11  12  13  14  15  16  17  18  19  20  21  22  23  24  25  26  27  28  29  30  31  32  33  34  35  36  37  38  39  40  41  42  43  44  45  46  47  48  49  50"
     ]
    }
   ],
   "source": [
    "for i in range (1, 51):\n",
    "    \n",
    "    # Split the data into Train and Test Sets\n",
    "    X_train, X_test, y_train, y_test = train_test_split(predictors, target, test_size = 0.3)\n",
    "\n",
    "    # Build the model\n",
    "    model = regression_model()\n",
    "\n",
    "    # Fit the model\n",
    "    model.fit(X_train, y_train, epochs = 50, verbose = 0)\n",
    "    \n",
    "    # Predict using model\n",
    "    predictions = model.predict(X_test)\n",
    "    \n",
    "    # Mean Squared Error between the predicted concrete strength and the actual concrete strength\n",
    "    temp = mean_squared_error(y_test, predictions)\n",
    "    \n",
    "    if i == 1:\n",
    "        mean_squared_error_part_a = []\n",
    "        mean_squared_error_part_a.append(temp)\n",
    "    else:\n",
    "        mean_squared_error_part_a.append(temp)\n",
    "        \n",
    "    if i == 1:\n",
    "        print('ITERATION: ', i, end = '')\n",
    "    else:\n",
    "        print(' ', i, end = '')"
   ]
  },
  {
   "cell_type": "markdown",
   "metadata": {},
   "source": [
    "## Creating 'Mean Squared Error' Dataframe - Post Model Iteration"
   ]
  },
  {
   "cell_type": "code",
   "execution_count": 179,
   "metadata": {},
   "outputs": [
    {
     "data": {
      "text/html": [
       "<div>\n",
       "<style scoped>\n",
       "    .dataframe tbody tr th:only-of-type {\n",
       "        vertical-align: middle;\n",
       "    }\n",
       "\n",
       "    .dataframe tbody tr th {\n",
       "        vertical-align: top;\n",
       "    }\n",
       "\n",
       "    .dataframe thead th {\n",
       "        text-align: right;\n",
       "    }\n",
       "</style>\n",
       "<table border=\"1\" class=\"dataframe\">\n",
       "  <thead>\n",
       "    <tr style=\"text-align: right;\">\n",
       "      <th></th>\n",
       "      <th>MSE_Part_A</th>\n",
       "    </tr>\n",
       "    <tr>\n",
       "      <th>Statistics</th>\n",
       "      <th></th>\n",
       "    </tr>\n",
       "  </thead>\n",
       "  <tbody>\n",
       "    <tr>\n",
       "      <th>Mean</th>\n",
       "      <td>355.667165</td>\n",
       "    </tr>\n",
       "    <tr>\n",
       "      <th>Standard_Deviation</th>\n",
       "      <td>381.775850</td>\n",
       "    </tr>\n",
       "  </tbody>\n",
       "</table>\n",
       "</div>"
      ],
      "text/plain": [
       "                    MSE_Part_A\n",
       "Statistics                    \n",
       "Mean                355.667165\n",
       "Standard_Deviation  381.775850"
      ]
     },
     "execution_count": 179,
     "metadata": {},
     "output_type": "execute_result"
    }
   ],
   "source": [
    "data_part_a = {'Statistics':['Mean', 'Standard_Deviation'], \\\n",
    "               'MSE_Part_A':[statistics.mean(mean_squared_error_part_a), statistics.stdev(mean_squared_error_part_a)]}\n",
    "mean_squared_error_all_parts = pd.DataFrame(data_part_a)\n",
    "mean_squared_error_all_parts.set_index('Statistics', inplace = True)\n",
    "mean_squared_error_all_parts"
   ]
  },
  {
   "cell_type": "markdown",
   "metadata": {},
   "source": [
    "## Visualizing 'Mean Squared Error' distribution without Data Normalization"
   ]
  },
  {
   "cell_type": "code",
   "execution_count": 220,
   "metadata": {},
   "outputs": [
    {
     "data": {
      "text/plain": [
       "{'whiskers': [<matplotlib.lines.Line2D at 0x7fca95196a90>,\n",
       "  <matplotlib.lines.Line2D at 0x7fca95196e10>],\n",
       " 'caps': [<matplotlib.lines.Line2D at 0x7fca951a2198>,\n",
       "  <matplotlib.lines.Line2D at 0x7fca951a24e0>],\n",
       " 'boxes': [<matplotlib.lines.Line2D at 0x7fca951966d8>],\n",
       " 'medians': [<matplotlib.lines.Line2D at 0x7fca951a2828>],\n",
       " 'fliers': [<matplotlib.lines.Line2D at 0x7fca951a2b70>],\n",
       " 'means': []}"
      ]
     },
     "execution_count": 220,
     "metadata": {},
     "output_type": "execute_result"
    },
    {
     "data": {
      "image/png": "[encoded data removed]",
      "text/plain": [
       "<Figure size 432x288 with 1 Axes>"
      ]
     },
     "metadata": {
      "needs_background": "light"
     },
     "output_type": "display_data"
    }
   ],
   "source": [
    "plt.boxplot(mean_squared_error_part_a)"
   ]
  },
  {
   "cell_type": "markdown",
   "metadata": {},
   "source": [
    "# Part B"
   ]
  },
  {
   "cell_type": "markdown",
   "metadata": {},
   "source": [
    "## Normalizing Data"
   ]
  },
  {
   "cell_type": "code",
   "execution_count": 192,
   "metadata": {},
   "outputs": [
    {
     "data": {
      "text/html": [
       "<div>\n",
       "<style scoped>\n",
       "    .dataframe tbody tr th:only-of-type {\n",
       "        vertical-align: middle;\n",
       "    }\n",
       "\n",
       "    .dataframe tbody tr th {\n",
       "        vertical-align: top;\n",
       "    }\n",
       "\n",
       "    .dataframe thead th {\n",
       "        text-align: right;\n",
       "    }\n",
       "</style>\n",
       "<table border=\"1\" class=\"dataframe\">\n",
       "  <thead>\n",
       "    <tr style=\"text-align: right;\">\n",
       "      <th></th>\n",
       "      <th>Cement</th>\n",
       "      <th>Blast Furnace Slag</th>\n",
       "      <th>Fly Ash</th>\n",
       "      <th>Water</th>\n",
       "      <th>Superplasticizer</th>\n",
       "      <th>Coarse Aggregate</th>\n",
       "      <th>Fine Aggregate</th>\n",
       "      <th>Age</th>\n",
       "    </tr>\n",
       "  </thead>\n",
       "  <tbody>\n",
       "    <tr>\n",
       "      <th>0</th>\n",
       "      <td>2.476712</td>\n",
       "      <td>-0.856472</td>\n",
       "      <td>-0.846733</td>\n",
       "      <td>-0.916319</td>\n",
       "      <td>-0.620147</td>\n",
       "      <td>0.862735</td>\n",
       "      <td>-1.217079</td>\n",
       "      <td>-0.279597</td>\n",
       "    </tr>\n",
       "    <tr>\n",
       "      <th>1</th>\n",
       "      <td>2.476712</td>\n",
       "      <td>-0.856472</td>\n",
       "      <td>-0.846733</td>\n",
       "      <td>-0.916319</td>\n",
       "      <td>-0.620147</td>\n",
       "      <td>1.055651</td>\n",
       "      <td>-1.217079</td>\n",
       "      <td>-0.279597</td>\n",
       "    </tr>\n",
       "    <tr>\n",
       "      <th>2</th>\n",
       "      <td>0.491187</td>\n",
       "      <td>0.795140</td>\n",
       "      <td>-0.846733</td>\n",
       "      <td>2.174405</td>\n",
       "      <td>-1.038638</td>\n",
       "      <td>-0.526262</td>\n",
       "      <td>-2.239829</td>\n",
       "      <td>3.551340</td>\n",
       "    </tr>\n",
       "    <tr>\n",
       "      <th>3</th>\n",
       "      <td>0.491187</td>\n",
       "      <td>0.795140</td>\n",
       "      <td>-0.846733</td>\n",
       "      <td>2.174405</td>\n",
       "      <td>-1.038638</td>\n",
       "      <td>-0.526262</td>\n",
       "      <td>-2.239829</td>\n",
       "      <td>5.055221</td>\n",
       "    </tr>\n",
       "    <tr>\n",
       "      <th>4</th>\n",
       "      <td>-0.790075</td>\n",
       "      <td>0.678079</td>\n",
       "      <td>-0.846733</td>\n",
       "      <td>0.488555</td>\n",
       "      <td>-1.038638</td>\n",
       "      <td>0.070492</td>\n",
       "      <td>0.647569</td>\n",
       "      <td>4.976069</td>\n",
       "    </tr>\n",
       "  </tbody>\n",
       "</table>\n",
       "</div>"
      ],
      "text/plain": [
       "     Cement  Blast Furnace Slag   Fly Ash     Water  Superplasticizer  \\\n",
       "0  2.476712           -0.856472 -0.846733 -0.916319         -0.620147   \n",
       "1  2.476712           -0.856472 -0.846733 -0.916319         -0.620147   \n",
       "2  0.491187            0.795140 -0.846733  2.174405         -1.038638   \n",
       "3  0.491187            0.795140 -0.846733  2.174405         -1.038638   \n",
       "4 -0.790075            0.678079 -0.846733  0.488555         -1.038638   \n",
       "\n",
       "   Coarse Aggregate  Fine Aggregate       Age  \n",
       "0          0.862735       -1.217079 -0.279597  \n",
       "1          1.055651       -1.217079 -0.279597  \n",
       "2         -0.526262       -2.239829  3.551340  \n",
       "3         -0.526262       -2.239829  5.055221  \n",
       "4          0.070492        0.647569  4.976069  "
      ]
     },
     "execution_count": 192,
     "metadata": {},
     "output_type": "execute_result"
    }
   ],
   "source": [
    "predictors_norm = (predictors - predictors.mean()) / predictors.std()\n",
    "predictors_norm.head()"
   ]
  },
  {
   "cell_type": "markdown",
   "metadata": {},
   "source": [
    "## Model Iteration - (with Data Normalization; 1 hidden layer; epochs = 50)"
   ]
  },
  {
   "cell_type": "code",
   "execution_count": 181,
   "metadata": {},
   "outputs": [
    {
     "name": "stdout",
     "output_type": "stream",
     "text": [
      "ITERATION:  1  2  3  4  5  6  7  8  9  10  11  12  13  14  15  16  17  18  19  20  21  22  23  24  25  26  27  28  29  30  31  32  33  34  35  36  37  38  39  40  41  42  43  44  45  46  47  48  49  50"
     ]
    }
   ],
   "source": [
    "for i in range (1, 51):\n",
    "    \n",
    "    # Split the data into Train and Test Sets\n",
    "    X_train, X_test, y_train, y_test = train_test_split(predictors_norm, target, test_size = 0.3)\n",
    "\n",
    "    # Build the model\n",
    "    model = regression_model()\n",
    "\n",
    "    # Fit the model\n",
    "    model.fit(X_train, y_train, epochs = 50, verbose = 0)\n",
    "    \n",
    "    # Predict using model\n",
    "    predictions = model.predict(X_test)\n",
    "    \n",
    "    # Mean Squared Error between the predicted concrete strength and the actual concrete strength\n",
    "    temp = mean_squared_error(y_test, predictions)\n",
    "    \n",
    "    if i == 1:\n",
    "        mean_squared_error_part_b = []\n",
    "        mean_squared_error_part_b.append(temp)\n",
    "    else:\n",
    "        mean_squared_error_part_b.append(temp)\n",
    "        \n",
    "    if i == 1:\n",
    "        print('ITERATION: ', i, end = '')\n",
    "    else:\n",
    "        print(' ', i, end = '')"
   ]
  },
  {
   "cell_type": "markdown",
   "metadata": {},
   "source": [
    "## Creating 'MSE' DF and Comparing to earlier MSE DF Without Normalization"
   ]
  },
  {
   "cell_type": "code",
   "execution_count": 207,
   "metadata": {},
   "outputs": [
    {
     "name": "stdout",
     "output_type": "stream",
     "text": [
      "\u001b[1m My Comment ::::: \u001b[1m \n",
      "\n",
      "While the *Mean* of the *Mean Squared Errors* improved slighly due to *Normalized Data*, the *Standard Deviation* improved significanly which shows that the distribution of squared errors is now more concentrated towards the Mean with lower number of cases having very high squared errors errors, which shows a definite improvement. \n",
      "\n"
     ]
    },
    {
     "data": {
      "text/html": [
       "<div>\n",
       "<style scoped>\n",
       "    .dataframe tbody tr th:only-of-type {\n",
       "        vertical-align: middle;\n",
       "    }\n",
       "\n",
       "    .dataframe tbody tr th {\n",
       "        vertical-align: top;\n",
       "    }\n",
       "\n",
       "    .dataframe thead th {\n",
       "        text-align: right;\n",
       "    }\n",
       "</style>\n",
       "<table border=\"1\" class=\"dataframe\">\n",
       "  <thead>\n",
       "    <tr style=\"text-align: right;\">\n",
       "      <th></th>\n",
       "      <th>MSE_Part_A</th>\n",
       "      <th>MSE_Part_B</th>\n",
       "    </tr>\n",
       "    <tr>\n",
       "      <th>Statistics</th>\n",
       "      <th></th>\n",
       "      <th></th>\n",
       "    </tr>\n",
       "  </thead>\n",
       "  <tbody>\n",
       "    <tr>\n",
       "      <th>Mean</th>\n",
       "      <td>355.667165</td>\n",
       "      <td>348.952034</td>\n",
       "    </tr>\n",
       "    <tr>\n",
       "      <th>Standard_Deviation</th>\n",
       "      <td>381.775850</td>\n",
       "      <td>78.739366</td>\n",
       "    </tr>\n",
       "  </tbody>\n",
       "</table>\n",
       "</div>"
      ],
      "text/plain": [
       "                    MSE_Part_A  MSE_Part_B\n",
       "Statistics                                \n",
       "Mean                355.667165  348.952034\n",
       "Standard_Deviation  381.775850   78.739366"
      ]
     },
     "execution_count": 207,
     "metadata": {},
     "output_type": "execute_result"
    }
   ],
   "source": [
    "data_part_b = {'Statistics':['Mean', 'Standard_Deviation'], \\\n",
    "               'MSE_Part_A':[statistics.mean(mean_squared_error_part_a), statistics.stdev(mean_squared_error_part_a)], \\\n",
    "               'MSE_Part_B':[statistics.mean(mean_squared_error_part_b), statistics.stdev(mean_squared_error_part_b)]}\n",
    "mean_squared_error_all_parts = pd.DataFrame(data_part_b)\n",
    "mean_squared_error_all_parts.set_index('Statistics', inplace = True)\n",
    "print('\\033[1m My Comment ::::: \\033[1m \\n')\n",
    "print('While the *Mean* of the *Mean Squared Errors* improved slighly due to *Normalized Data*, the *Standard Deviation* \\\n",
    "improved significanly which shows that the distribution of squared errors is now more concentrated towards the Mean with lower \\\n",
    "number of cases having very high squared errors errors, which shows a definite improvement. \\n')\n",
    "mean_squared_error_all_parts"
   ]
  },
  {
   "cell_type": "markdown",
   "metadata": {},
   "source": [
    "## Visualizing 'MSE' DF distribution with Data Normalization"
   ]
  },
  {
   "cell_type": "code",
   "execution_count": 223,
   "metadata": {},
   "outputs": [
    {
     "data": {
      "text/plain": [
       "{'whiskers': [<matplotlib.lines.Line2D at 0x7fca950b1c50>,\n",
       "  <matplotlib.lines.Line2D at 0x7fca9503f048>],\n",
       " 'caps': [<matplotlib.lines.Line2D at 0x7fca9503f390>,\n",
       "  <matplotlib.lines.Line2D at 0x7fca9503f6d8>],\n",
       " 'boxes': [<matplotlib.lines.Line2D at 0x7fca950b1b00>],\n",
       " 'medians': [<matplotlib.lines.Line2D at 0x7fca9503fa20>],\n",
       " 'fliers': [<matplotlib.lines.Line2D at 0x7fca9503fd68>],\n",
       " 'means': []}"
      ]
     },
     "execution_count": 223,
     "metadata": {},
     "output_type": "execute_result"
    },
    {
     "data": {
      "image/png": "[encoded data removed]",
      "text/plain": [
       "<Figure size 432x288 with 1 Axes>"
      ]
     },
     "metadata": {
      "needs_background": "light"
     },
     "output_type": "display_data"
    }
   ],
   "source": [
    "plt.boxplot(mean_squared_error_part_b)"
   ]
  },
  {
   "cell_type": "markdown",
   "metadata": {},
   "source": [
    "# Part C"
   ]
  },
  {
   "cell_type": "markdown",
   "metadata": {},
   "source": [
    "## Model Interation - (with Data Normalization; 1 hidden layer; epochs = 100)"
   ]
  },
  {
   "cell_type": "code",
   "execution_count": 184,
   "metadata": {},
   "outputs": [
    {
     "name": "stdout",
     "output_type": "stream",
     "text": [
      "ITERATION:  1  2  3  4  5  6  7  8  9  10  11  12  13  14  15  16  17  18  19  20  21  22  23  24  25  26  27  28  29  30  31  32  33  34  35  36  37  38  39  40  41  42  43  44  45  46  47  48  49  50"
     ]
    }
   ],
   "source": [
    "for i in range (1, 51):\n",
    "    \n",
    "    # Split the data into Train and Test Sets\n",
    "    X_train, X_test, y_train, y_test = train_test_split(predictors_norm, target, test_size = 0.3)\n",
    "\n",
    "    # Build the model\n",
    "    model = regression_model()\n",
    "\n",
    "    # Fit the model\n",
    "    model.fit(X_train, y_train, epochs = 100, verbose = 0)\n",
    "    \n",
    "    # Predict using model\n",
    "    predictions = model.predict(X_test)\n",
    "    \n",
    "    # Mean Squared Error between the predicted concrete strength and the actual concrete strength\n",
    "    temp = mean_squared_error(y_test, predictions)\n",
    "    \n",
    "    if i == 1:\n",
    "        mean_squared_error_part_c = []\n",
    "        mean_squared_error_part_c.append(temp)\n",
    "    else:\n",
    "        mean_squared_error_part_c.append(temp)\n",
    "        \n",
    "    if i == 1:\n",
    "        print('ITERATION: ', i, end = '')\n",
    "    else:\n",
    "        print(' ', i, end = '')"
   ]
  },
  {
   "cell_type": "markdown",
   "metadata": {},
   "source": [
    "## Creating 'MSE' DF and Comparing to earlier MSE DF (data norm. & epochs = 50)"
   ]
  },
  {
   "cell_type": "code",
   "execution_count": 208,
   "metadata": {},
   "outputs": [
    {
     "name": "stdout",
     "output_type": "stream",
     "text": [
      "\u001b[1m My Comment ::::: \u001b[1m \n",
      "\n",
      "Both the *Mean* as well as the *Standard Deviation* of the *Mean Squared Errors* improved significantly further from *Part B* (i.e. normalized data). This means that not only the average error decreased significantly which is shown by mean, the distribution of error is also now much more concentrated towards the mean which means futher lower number of cases having significanly high squared errors above the mean. \n",
      "\n"
     ]
    },
    {
     "data": {
      "text/html": [
       "<div>\n",
       "<style scoped>\n",
       "    .dataframe tbody tr th:only-of-type {\n",
       "        vertical-align: middle;\n",
       "    }\n",
       "\n",
       "    .dataframe tbody tr th {\n",
       "        vertical-align: top;\n",
       "    }\n",
       "\n",
       "    .dataframe thead th {\n",
       "        text-align: right;\n",
       "    }\n",
       "</style>\n",
       "<table border=\"1\" class=\"dataframe\">\n",
       "  <thead>\n",
       "    <tr style=\"text-align: right;\">\n",
       "      <th></th>\n",
       "      <th>MSE_Part_A</th>\n",
       "      <th>MSE_Part_B</th>\n",
       "      <th>MSE_Part_C</th>\n",
       "    </tr>\n",
       "    <tr>\n",
       "      <th>Statistics</th>\n",
       "      <th></th>\n",
       "      <th></th>\n",
       "      <th></th>\n",
       "    </tr>\n",
       "  </thead>\n",
       "  <tbody>\n",
       "    <tr>\n",
       "      <th>Mean</th>\n",
       "      <td>355.667165</td>\n",
       "      <td>348.952034</td>\n",
       "      <td>163.262230</td>\n",
       "    </tr>\n",
       "    <tr>\n",
       "      <th>Standard_Deviation</th>\n",
       "      <td>381.775850</td>\n",
       "      <td>78.739366</td>\n",
       "      <td>17.187308</td>\n",
       "    </tr>\n",
       "  </tbody>\n",
       "</table>\n",
       "</div>"
      ],
      "text/plain": [
       "                    MSE_Part_A  MSE_Part_B  MSE_Part_C\n",
       "Statistics                                            \n",
       "Mean                355.667165  348.952034  163.262230\n",
       "Standard_Deviation  381.775850   78.739366   17.187308"
      ]
     },
     "execution_count": 208,
     "metadata": {},
     "output_type": "execute_result"
    }
   ],
   "source": [
    "# Creating 'Mean Squared Error' Dataframe\n",
    "\n",
    "data_part_c = {'Statistics':['Mean', 'Standard_Deviation'], \\\n",
    "               'MSE_Part_A':[statistics.mean(mean_squared_error_part_a), statistics.stdev(mean_squared_error_part_a)], \\\n",
    "               'MSE_Part_B':[statistics.mean(mean_squared_error_part_b), statistics.stdev(mean_squared_error_part_b)], \\\n",
    "               'MSE_Part_C':[statistics.mean(mean_squared_error_part_c), statistics.stdev(mean_squared_error_part_c)]}\n",
    "mean_squared_error_all_parts = pd.DataFrame(data_part_c)\n",
    "mean_squared_error_all_parts.set_index('Statistics', inplace = True)\n",
    "print('\\033[1m My Comment ::::: \\033[1m \\n')\n",
    "print('Both the *Mean* as well as the *Standard Deviation* of the *Mean Squared Errors* improved significantly further from *Part B* (i.e. normalized data). \\\n",
    "This means that not only the average error decreased significantly which is shown by mean, the distribution of error is also now much more concentrated \\\n",
    "towards the mean which means futher lower number of cases having significanly high squared errors above the mean. \\n')\n",
    "mean_squared_error_all_parts"
   ]
  },
  {
   "cell_type": "markdown",
   "metadata": {},
   "source": [
    "## Visualizing 'MSE' DF distribution with Data Normalization and Higher Epochs"
   ]
  },
  {
   "cell_type": "code",
   "execution_count": 224,
   "metadata": {},
   "outputs": [
    {
     "data": {
      "text/plain": [
       "{'whiskers': [<matplotlib.lines.Line2D at 0x7fca9500fc88>,\n",
       "  <matplotlib.lines.Line2D at 0x7fca9501e080>],\n",
       " 'caps': [<matplotlib.lines.Line2D at 0x7fca9501e3c8>,\n",
       "  <matplotlib.lines.Line2D at 0x7fca9501e710>],\n",
       " 'boxes': [<matplotlib.lines.Line2D at 0x7fca9500fb38>],\n",
       " 'medians': [<matplotlib.lines.Line2D at 0x7fca9501ea58>],\n",
       " 'fliers': [<matplotlib.lines.Line2D at 0x7fca9501eda0>],\n",
       " 'means': []}"
      ]
     },
     "execution_count": 224,
     "metadata": {},
     "output_type": "execute_result"
    },
    {
     "data": {
      "image/png": "[encoded data removed]",
      "text/plain": [
       "<Figure size 432x288 with 1 Axes>"
      ]
     },
     "metadata": {
      "needs_background": "light"
     },
     "output_type": "display_data"
    }
   ],
   "source": [
    "plt.boxplot(mean_squared_error_part_c)"
   ]
  },
  {
   "cell_type": "markdown",
   "metadata": {},
   "source": [
    "# Part D"
   ]
  },
  {
   "cell_type": "markdown",
   "metadata": {},
   "source": [
    "## Defining Neural Network Regression Model with 3 hidden layers"
   ]
  },
  {
   "cell_type": "code",
   "execution_count": 187,
   "metadata": {},
   "outputs": [],
   "source": [
    "def regression_model_new():\n",
    "    # Create model\n",
    "    model = Sequential()\n",
    "    model.add(Dense(10, activation = 'relu', input_shape = (n_cols, )))\n",
    "    model.add(Dense(10, activation = 'relu'))\n",
    "    model.add(Dense(10, activation = 'relu'))\n",
    "    model.add(Dense(1))\n",
    "    \n",
    "    # Compile model\n",
    "    model.compile(optimizer = 'adam', loss = 'mean_squared_error')\n",
    "    return model"
   ]
  },
  {
   "cell_type": "markdown",
   "metadata": {},
   "source": [
    "## Model Iteration - (with Data Normalization; 3 hidden layers; epochs = 50)"
   ]
  },
  {
   "cell_type": "code",
   "execution_count": 188,
   "metadata": {},
   "outputs": [
    {
     "name": "stdout",
     "output_type": "stream",
     "text": [
      "ITERATION:  1  2  3  4  5  6  7  8  9  10  11  12  13  14  15  16  17  18  19  20  21  22  23  24  25  26  27  28  29  30  31  32  33  34  35  36  37  38  39  40  41  42  43  44  45  46  47  48  49  50"
     ]
    }
   ],
   "source": [
    "for i in range (1, 51):\n",
    "    \n",
    "    # Split the data into Train and Test Sets\n",
    "    X_train, X_test, y_train, y_test = train_test_split(predictors_norm, target, test_size = 0.3)\n",
    "\n",
    "    # Build the model\n",
    "    model = regression_model_new()\n",
    "\n",
    "    # Fit the model\n",
    "    model.fit(X_train, y_train, epochs = 50, verbose = 0)\n",
    "    \n",
    "    # Predict using model\n",
    "    predictions = model.predict(X_test)\n",
    "    \n",
    "    # Mean Squared Error between the predicted concrete strength and the actual concrete strength\n",
    "    temp = mean_squared_error(y_test, predictions)\n",
    "    \n",
    "    if i == 1:\n",
    "        mean_squared_error_part_d = []\n",
    "        mean_squared_error_part_d.append(temp)\n",
    "    else:\n",
    "        mean_squared_error_part_d.append(temp)\n",
    "        \n",
    "    if i == 1:\n",
    "        print('ITERATION: ', i, end = '')\n",
    "    else:\n",
    "        print(' ', i, end = '')"
   ]
  },
  {
   "cell_type": "markdown",
   "metadata": {},
   "source": [
    "## Creating 'MSE' DF and Comparing to MSE DF (data norm. & hidden layers = 1)"
   ]
  },
  {
   "cell_type": "code",
   "execution_count": 212,
   "metadata": {},
   "outputs": [
    {
     "name": "stdout",
     "output_type": "stream",
     "text": [
      "\u001b[1m My Comment ::::: \u001b[1m \n",
      "\n",
      "Again, both the *Mean* as well as the *Standard Deviation* of the *Mean Squared Errors* improved significantly further from *Part B* (i.e. normalized data). Also, the key thing to note here is that the improvement in both the *Mean* as well as *Standard Deviation* with **More No. of Hidden Layers** is significantly more than the improvement with **More Epochs**. This shows that we can improve the outcome of our model significanly more with *More Hidden Layers* than with *More Epochs*. \n",
      "\n"
     ]
    },
    {
     "data": {
      "text/html": [
       "<div>\n",
       "<style scoped>\n",
       "    .dataframe tbody tr th:only-of-type {\n",
       "        vertical-align: middle;\n",
       "    }\n",
       "\n",
       "    .dataframe tbody tr th {\n",
       "        vertical-align: top;\n",
       "    }\n",
       "\n",
       "    .dataframe thead th {\n",
       "        text-align: right;\n",
       "    }\n",
       "</style>\n",
       "<table border=\"1\" class=\"dataframe\">\n",
       "  <thead>\n",
       "    <tr style=\"text-align: right;\">\n",
       "      <th></th>\n",
       "      <th>MSE_Part_A</th>\n",
       "      <th>MSE_Part_B</th>\n",
       "      <th>MSE_Part_C</th>\n",
       "      <th>MSE_Part_D</th>\n",
       "    </tr>\n",
       "    <tr>\n",
       "      <th>Statistics</th>\n",
       "      <th></th>\n",
       "      <th></th>\n",
       "      <th></th>\n",
       "      <th></th>\n",
       "    </tr>\n",
       "  </thead>\n",
       "  <tbody>\n",
       "    <tr>\n",
       "      <th>Mean</th>\n",
       "      <td>355.667165</td>\n",
       "      <td>348.952034</td>\n",
       "      <td>163.262230</td>\n",
       "      <td>130.695725</td>\n",
       "    </tr>\n",
       "    <tr>\n",
       "      <th>Standard_Deviation</th>\n",
       "      <td>381.775850</td>\n",
       "      <td>78.739366</td>\n",
       "      <td>17.187308</td>\n",
       "      <td>13.592974</td>\n",
       "    </tr>\n",
       "  </tbody>\n",
       "</table>\n",
       "</div>"
      ],
      "text/plain": [
       "                    MSE_Part_A  MSE_Part_B  MSE_Part_C  MSE_Part_D\n",
       "Statistics                                                        \n",
       "Mean                355.667165  348.952034  163.262230  130.695725\n",
       "Standard_Deviation  381.775850   78.739366   17.187308   13.592974"
      ]
     },
     "execution_count": 212,
     "metadata": {},
     "output_type": "execute_result"
    }
   ],
   "source": [
    "# Creating 'Mean Squared Error' Dataframe\n",
    "\n",
    "data_part_d = {'Statistics':['Mean', 'Standard_Deviation'], \\\n",
    "               'MSE_Part_A':[statistics.mean(mean_squared_error_part_a), statistics.stdev(mean_squared_error_part_a)], \\\n",
    "               'MSE_Part_B':[statistics.mean(mean_squared_error_part_b), statistics.stdev(mean_squared_error_part_b)], \\\n",
    "               'MSE_Part_C':[statistics.mean(mean_squared_error_part_c), statistics.stdev(mean_squared_error_part_c)], \\\n",
    "               'MSE_Part_D':[statistics.mean(mean_squared_error_part_d), statistics.stdev(mean_squared_error_part_d)]}\n",
    "mean_squared_error_all_parts = pd.DataFrame(data_part_d)\n",
    "mean_squared_error_all_parts.set_index('Statistics', inplace = True)\n",
    "print('\\033[1m My Comment ::::: \\033[1m \\n')\n",
    "print('Again, both the *Mean* as well as the *Standard Deviation* of the *Mean Squared Errors* improved significantly further from *Part B* (i.e. normalized data). \\\n",
    "Also, the key thing to note here is that the improvement in both the *Mean* as well as *Standard Deviation* with **More No. of Hidden Layers** is significantly \\\n",
    "more than the improvement with **More Epochs**. This shows that we can improve the outcome of our model significanly more with *More Hidden Layers* \\\n",
    "than with *More Epochs*. \\n')\n",
    "mean_squared_error_all_parts"
   ]
  },
  {
   "cell_type": "markdown",
   "metadata": {},
   "source": [
    "## Visualizing 'MSE' DF distribution with Data Norm. and Higher no. of hidden layers"
   ]
  },
  {
   "cell_type": "code",
   "execution_count": 225,
   "metadata": {},
   "outputs": [
    {
     "data": {
      "text/plain": [
       "{'whiskers': [<matplotlib.lines.Line2D at 0x7fca94ff5240>,\n",
       "  <matplotlib.lines.Line2D at 0x7fca94ff55f8>],\n",
       " 'caps': [<matplotlib.lines.Line2D at 0x7fca94ff5940>,\n",
       "  <matplotlib.lines.Line2D at 0x7fca94ff5c88>],\n",
       " 'boxes': [<matplotlib.lines.Line2D at 0x7fca94fe8ef0>],\n",
       " 'medians': [<matplotlib.lines.Line2D at 0x7fca94ff5fd0>],\n",
       " 'fliers': [<matplotlib.lines.Line2D at 0x7fca94f7d358>],\n",
       " 'means': []}"
      ]
     },
     "execution_count": 225,
     "metadata": {},
     "output_type": "execute_result"
    },
    {
     "data": {
      "image/png": "[encoded data removed]",
      "text/plain": [
       "<Figure size 432x288 with 1 Axes>"
      ]
     },
     "metadata": {
      "needs_background": "light"
     },
     "output_type": "display_data"
    }
   ],
   "source": [
    "plt.boxplot(mean_squared_error_part_d)"
   ]
  },
  {
   "cell_type": "markdown",
   "metadata": {},
   "source": [
    "# Final Finding"
   ]
  },
  {
   "cell_type": "markdown",
   "metadata": {},
   "source": [
    "**1. Normalization helps in improving both mean and standard deviation of error. Also, with data normalization, SD improves significantly showing the distribution of error is more concentrated and the result is more reliable.**\n",
    "\n",
    "**2. We can improve the outcome of our model more significanly with *More Hidden Layers* than with *More Epochs***"
   ]
  }
 ],
 "metadata": {
  "kernelspec": {
   "display_name": "Python 3",
   "language": "python",
   "name": "python3"
  },
  "language_info": {
   "codemirror_mode": {
    "name": "ipython",
    "version": 3
   },
   "file_extension": ".py",
   "mimetype": "text/x-python",
   "name": "python",
   "nbconvert_exporter": "python",
   "pygments_lexer": "ipython3",
   "version": "3.8.3"
  },
  "toc": {
   "base_numbering": 1,
   "nav_menu": {},
   "number_sections": true,
   "sideBar": true,
   "skip_h1_title": false,
   "title_cell": "Table of Contents",
   "title_sidebar": "Contents",
   "toc_cell": false,
   "toc_position": {},
   "toc_section_display": true,
   "toc_window_display": true
  },
  "varInspector": {
   "cols": {
    "lenName": 16,
    "lenType": 16,
    "lenVar": 40
   },
   "kernels_config": {
    "python": {
     "delete_cmd_postfix": "",
     "delete_cmd_prefix": "del ",
     "library": "var_list.py",
     "varRefreshCmd": "print(var_dic_list())"
    },
    "r": {
     "delete_cmd_postfix": ") ",
     "delete_cmd_prefix": "rm(",
     "library": "var_list.r",
     "varRefreshCmd": "cat(var_dic_list()) "
    }
   },
   "types_to_exclude": [
    "module",
    "function",
    "builtin_function_or_method",
    "instance",
    "_Feature"
   ],
   "window_display": false
  }
 },
 "nbformat": 4,
 "nbformat_minor": 4
}
